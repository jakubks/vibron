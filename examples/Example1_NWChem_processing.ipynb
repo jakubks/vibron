{
 "cells": [
  {
   "cell_type": "markdown",
   "metadata": {},
   "source": [
    "## Example 1: Processing NWChem outputs\n",
    "\n",
    "In this example, we will process outputs of NWChem calculations to determine the Huang-Rhys parameters and the corresponding intra-molecular reorganization energy of a BPEA [9,10-Bis(phenylethynyl)anthracene] molecule under excitation from the S$_0$ to the S$_1$ state.\n",
    "\n",
    "We will use the following outputs of NWChem calculations:\n",
    "\n",
    "(i) Geometry optimization of ground-state BPEA followed by a frequency analysis ('./nwchem_outs/S0_opt.out')\n",
    "\n",
    "(ii) Geometry optimization of the excited state BPEA ('./nwchem_outs/S1_opt.out')\n",
    "\n",
    "(iii) Vertical excited state energy calculation to verify the accuracy of the obtained Huang-Rhys parameters ('./nwchem_outs/S1_vertical.out')\n"
   ]
  },
  {
   "cell_type": "code",
   "execution_count": 1,
   "metadata": {},
   "outputs": [],
   "source": [
    "import numpy as np\n",
    "import matplotlib.pyplot as plt\n",
    "from vibron.nwchem_utils import nwread, nwdushinsky\n",
    "from vibron import Molecule\n",
    "from vibron.utils import units\n"
   ]
  },
  {
   "cell_type": "markdown",
   "metadata": {},
   "source": [
    "We first extract vibrational mode frequencies from the ground-state calculation (in eV):"
   ]
  },
  {
   "cell_type": "code",
   "execution_count": 2,
   "metadata": {},
   "outputs": [],
   "source": [
    "vib_modes = nwread.read_frequencies('./nwchem_outs/S0_opt.out')"
   ]
  },
  {
   "cell_type": "markdown",
   "metadata": {},
   "source": [
    "We then calculate and plot the Huang-Rhys parameters for each of the modes for the electronic transition in question: "
   ]
  },
  {
   "cell_type": "code",
   "execution_count": 3,
   "metadata": {},
   "outputs": [
    {
     "data": {
      "text/plain": [
       "Text(0, 0.5, 'Huang-Rhys parameter')"
      ]
     },
     "execution_count": 3,
     "metadata": {},
     "output_type": "execute_result"
    },
    {
     "data": {
      "image/png": "[encoded data removed]",
      "text/plain": [
       "<Figure size 432x288 with 1 Axes>"
      ]
     },
     "metadata": {
      "needs_background": "light"
     },
     "output_type": "display_data"
    }
   ],
   "source": [
    "HR_parameters = nwdushinsky.huang_rhys('./nwchem_outs/S0_opt.out','./nwchem_outs/S1_opt.out')\n",
    "\n",
    "plt.stem(vib_modes*units.eV2wavenumber, HR_parameters, use_line_collection=True, basefmt=' ')\n",
    "plt.xlabel('mode frequency (cm$^{-1}$)')\n",
    "plt.ylabel('Huang-Rhys parameter')"
   ]
  },
  {
   "cell_type": "markdown",
   "metadata": {},
   "source": [
    "To assess the accuracy of this calculation, we can calculate the corresponding reorganization energy and compare it to the reorganization energy obtained using a two-point method."
   ]
  },
  {
   "cell_type": "markdown",
   "metadata": {},
   "source": [
    "We first create a Molecule object and calculate the roerganization energy using the above Huang-Rhys parameters:"
   ]
  },
  {
   "cell_type": "code",
   "execution_count": 4,
   "metadata": {},
   "outputs": [
    {
     "name": "stdout",
     "output_type": "stream",
     "text": [
      "Inner-reorganization energy from HR parameters: 0.1343 eV\n"
     ]
    }
   ],
   "source": [
    "BPEA = Molecule(vib_modes=vib_modes, hr_parameters=HR_parameters)\n",
    "\n",
    "lambda_HR = BPEA.inner_reorganization()\n",
    "\n",
    "print(f\"Inner-reorganization energy from HR parameters: {lambda_HR:.4f} eV\")"
   ]
  },
  {
   "cell_type": "markdown",
   "metadata": {},
   "source": [
    "We then calculate the reorganization energy as the difference between the energy of the S$_1$ state in the S$_0$ geometry and the energy of the S$_1$ geometry minimum:"
   ]
  },
  {
   "cell_type": "code",
   "execution_count": 5,
   "metadata": {},
   "outputs": [
    {
     "name": "stdout",
     "output_type": "stream",
     "text": [
      "Inner-reorganization energy from the 2-point method: 0.1356 eV\n"
     ]
    }
   ],
   "source": [
    "lambda_2point = nwread.read_tddft('./nwchem_outs/S1_vertical.out') - nwread.read_optenergy('./nwchem_outs/S1_opt.out') \n",
    "print(f\"Inner-reorganization energy from the 2-point method: {lambda_2point:.4f} eV\")"
   ]
  },
  {
   "cell_type": "markdown",
   "metadata": {},
   "source": [
    "Ideally, the two values should be identical assuming the harmonic approximation etc. In practice, they can deviate a little. Here, they are different by:"
   ]
  },
  {
   "cell_type": "code",
   "execution_count": 6,
   "metadata": {},
   "outputs": [
    {
     "name": "stdout",
     "output_type": "stream",
     "text": [
      "Inner-reorganization energy difference: 0.97%\n"
     ]
    }
   ],
   "source": [
    "print(f\"Inner-reorganization energy difference: {100*np.abs(1 - lambda_HR/lambda_2point):.2f}%\")"
   ]
  },
  {
   "cell_type": "code",
   "execution_count": null,
   "metadata": {},
   "outputs": [],
   "source": []
  }
 ],
 "metadata": {
  "kernelspec": {
   "display_name": "Python 3",
   "language": "python",
   "name": "python3"
  },
  "language_info": {
   "codemirror_mode": {
    "name": "ipython",
    "version": 3
   },
   "file_extension": ".py",
   "mimetype": "text/x-python",
   "name": "python",
   "nbconvert_exporter": "python",
   "pygments_lexer": "ipython3",
   "version": "3.8.3"
  }
 },
 "nbformat": 4,
 "nbformat_minor": 4
}
